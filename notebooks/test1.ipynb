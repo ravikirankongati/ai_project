{
 "cells": [
  {
   "cell_type": "code",
   "execution_count": 1,
   "metadata": {},
   "outputs": [
    {
     "name": "stdout",
     "output_type": "stream",
     "text": [
      "Add: 10 + 5 = 15\n",
      "Subtract: 10 - 5 = 5\n"
     ]
    }
   ],
   "source": [
    "def add(a, b):\n",
    "    return a + b\n",
    "\n",
    "\n",
    "def subtract(a, b):\n",
    "    return a - b\n",
    "\n",
    "\n",
    "# Sample usage\n",
    "if __name__ == \"__main__\":\n",
    "    x = 10\n",
    "    y = 5\n",
    "    print(f\"Add: {x} + {y} = {add(x, y)}\")\n",
    "    print(f\"Subtract: {x} - {y} = {subtract(x, y)}\")\n",
    "\n",
    "\n",
    "dummy_data = {\n",
    "    \"NotificationObjectType\": \"DOCUMENT\",\n",
    "    \"NotificationObjectId\": \"DOC12345\",\n",
    "    \"NotificationType\": \"information\",\n",
    "    \"IntelligentScenario\": \"ZDEFAULT_TKEY_02\",\n",
    "    \"NotificationTargetStatus\": \"open\",\n",
    "    \"AdditionalInfo\": '{\"schema\":{\"id\":\"scehma001\",\"version\":\"1.0\"}}',\n",
    "}\n"
   ]
  },
  {
   "cell_type": "code",
   "execution_count": null,
   "metadata": {},
   "outputs": [],
   "source": []
  }
 ],
 "metadata": {
  "kernelspec": {
   "display_name": ".venv",
   "language": "python",
   "name": "python3"
  },
  "language_info": {
   "codemirror_mode": {
    "name": "ipython",
    "version": 3
   },
   "file_extension": ".py",
   "mimetype": "text/x-python",
   "name": "python",
   "nbconvert_exporter": "python",
   "pygments_lexer": "ipython3",
   "version": "3.11.9"
  }
 },
 "nbformat": 4,
 "nbformat_minor": 2
}
